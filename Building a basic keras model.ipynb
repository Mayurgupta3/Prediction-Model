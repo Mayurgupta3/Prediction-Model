{
 "cells": [
  {
   "cell_type": "code",
   "execution_count": 1,
   "metadata": {},
   "outputs": [],
   "source": [
    "import numpy as np                        #Import_for_data_analysis_package\n",
    "import matplotlib.pyplot as plt           #Import_for _plotting_the_data"
   ]
  },
  {
   "cell_type": "code",
   "execution_count": 2,
   "metadata": {},
   "outputs": [
    {
     "name": "stderr",
     "output_type": "stream",
     "text": [
      "/root/anaconda3/lib/python3.6/site-packages/h5py/__init__.py:36: FutureWarning: Conversion of the second argument of issubdtype from `float` to `np.floating` is deprecated. In future, it will be treated as `np.float64 == np.dtype(float).type`.\n",
      "  from ._conv import register_converters as _register_converters\n",
      "Using TensorFlow backend.\n"
     ]
    }
   ],
   "source": [
    "import keras                            #Import_keras\n",
    "from keras.models import Sequential     #Import_sequential_models\n",
    "from keras.layers import Dense          #Import_dense_layers"
   ]
  },
  {
   "cell_type": "code",
   "execution_count": 4,
   "metadata": {},
   "outputs": [],
   "source": [
    "train_data_X = np.linspace(-1, 1, 101)      #It generate 101 values between -1 to 1      "
   ]
  },
  {
   "cell_type": "code",
   "execution_count": 5,
   "metadata": {},
   "outputs": [],
   "source": [
    "train_data_Y = 4 * train_data_X + np.random.randn(101) * 0.44      #It store a random value with 4 time the X value"
   ]
  },
  {
   "cell_type": "code",
   "execution_count": 6,
   "metadata": {},
   "outputs": [
    {
     "data": {
      "text/plain": [
       "array([-1.  , -0.98, -0.96, -0.94, -0.92, -0.9 , -0.88, -0.86, -0.84,\n",
       "       -0.82, -0.8 , -0.78, -0.76, -0.74, -0.72, -0.7 , -0.68, -0.66,\n",
       "       -0.64, -0.62, -0.6 , -0.58, -0.56, -0.54, -0.52, -0.5 , -0.48,\n",
       "       -0.46, -0.44, -0.42, -0.4 , -0.38, -0.36, -0.34, -0.32, -0.3 ,\n",
       "       -0.28, -0.26, -0.24, -0.22, -0.2 , -0.18, -0.16, -0.14, -0.12,\n",
       "       -0.1 , -0.08, -0.06, -0.04, -0.02,  0.  ,  0.02,  0.04,  0.06,\n",
       "        0.08,  0.1 ,  0.12,  0.14,  0.16,  0.18,  0.2 ,  0.22,  0.24,\n",
       "        0.26,  0.28,  0.3 ,  0.32,  0.34,  0.36,  0.38,  0.4 ,  0.42,\n",
       "        0.44,  0.46,  0.48,  0.5 ,  0.52,  0.54,  0.56,  0.58,  0.6 ,\n",
       "        0.62,  0.64,  0.66,  0.68,  0.7 ,  0.72,  0.74,  0.76,  0.78,\n",
       "        0.8 ,  0.82,  0.84,  0.86,  0.88,  0.9 ,  0.92,  0.94,  0.96,\n",
       "        0.98,  1.  ])"
      ]
     },
     "execution_count": 6,
     "metadata": {},
     "output_type": "execute_result"
    }
   ],
   "source": [
    "train_data_X    "
   ]
  },
  {
   "cell_type": "code",
   "execution_count": 7,
   "metadata": {},
   "outputs": [
    {
     "data": {
      "text/plain": [
       "array([-3.56357796, -3.62389205, -4.05079025, -3.23200835, -3.29361206,\n",
       "       -3.41554146, -3.90716795, -3.60221011, -4.15023969, -2.6478471 ,\n",
       "       -2.9313892 , -3.18452378, -2.7111572 , -3.0954472 , -2.90605119,\n",
       "       -2.55160544, -2.10416856, -2.16534844, -2.2943071 , -2.63425548,\n",
       "       -2.57510767, -2.77590888, -2.85221659, -1.91792787, -2.1116572 ,\n",
       "       -1.95994224, -1.63504983, -1.89225327, -2.04769594, -1.97726018,\n",
       "       -1.6197004 , -1.77887931, -1.41285054, -0.7438801 , -1.33708813,\n",
       "       -1.16210286, -1.19741613, -1.67146025, -0.31060048, -0.66381278,\n",
       "       -0.8670972 , -0.71991672, -0.11048053, -0.28455132, -0.5087277 ,\n",
       "       -0.60595862,  0.18345248,  0.12416606, -0.15045163,  0.67256863,\n",
       "        0.07264133,  0.28271089,  0.23583563,  0.56093391,  0.5338253 ,\n",
       "        0.20933442,  1.08526657,  0.09987917,  0.65164454,  0.54920479,\n",
       "        1.03212847,  0.46923498,  1.31798514,  1.26938286,  0.76024483,\n",
       "        0.44096533,  1.44515524,  1.94736138,  1.0428585 ,  0.44872282,\n",
       "        2.38284066,  1.7633556 ,  1.51049335,  1.98854517,  1.53572662,\n",
       "        2.01959503,  2.35272861,  2.3001601 ,  2.05337602,  2.27347108,\n",
       "        2.03358555,  2.68323994,  2.54179618,  3.30306664,  3.44770247,\n",
       "        2.18151263,  3.3894753 ,  2.88615941,  3.69161779,  2.84788519,\n",
       "        2.83749572,  3.34208999,  3.60709045,  3.89150335,  4.0938995 ,\n",
       "        3.70738981,  3.52529694,  3.41034711,  3.86651049,  3.85538146,\n",
       "        3.93041872])"
      ]
     },
     "execution_count": 7,
     "metadata": {},
     "output_type": "execute_result"
    }
   ],
   "source": [
    "train_data_Y"
   ]
  },
  {
   "cell_type": "code",
   "execution_count": 8,
   "metadata": {},
   "outputs": [
    {
     "data": {
      "text/plain": [
       "<matplotlib.collections.PathCollection at 0x7f1ddefa6cc0>"
      ]
     },
     "execution_count": 8,
     "metadata": {},
     "output_type": "execute_result"
    },
    {
     "data": {
      "image/png": "[encoded data removed]",
      "text/plain": [
       "<Figure size 432x288 with 1 Axes>"
      ]
     },
     "metadata": {},
     "output_type": "display_data"
    }
   ],
   "source": [
    "plt.scatter(train_data_X, train_data_Y, label='data', color={'red','green'})"
   ]
  },
  {
   "cell_type": "code",
   "execution_count": 9,
   "metadata": {},
   "outputs": [],
   "source": [
    "model = Sequential()"
   ]
  },
  {
   "cell_type": "code",
   "execution_count": 10,
   "metadata": {},
   "outputs": [
    {
     "name": "stderr",
     "output_type": "stream",
     "text": [
      "/root/anaconda3/lib/python3.6/site-packages/ipykernel_launcher.py:1: UserWarning: Update your `Dense` call to the Keras 2 API: `Dense(input_dim=1, activation=\"linear\", units=1, kernel_initializer=\"uniform\")`\n",
      "  \"\"\"Entry point for launching an IPython kernel.\n"
     ]
    }
   ],
   "source": [
    "model.add(Dense(input_dim =1, output_dim=1, init='uniform', activation='linear'))"
   ]
  },
  {
   "cell_type": "code",
   "execution_count": 11,
   "metadata": {},
   "outputs": [
    {
     "name": "stdout",
     "output_type": "stream",
     "text": [
      "_________________________________________________________________\n",
      "Layer (type)                 Output Shape              Param #   \n",
      "=================================================================\n",
      "dense_1 (Dense)              (None, 1)                 2         \n",
      "=================================================================\n",
      "Total params: 2\n",
      "Trainable params: 2\n",
      "Non-trainable params: 0\n",
      "_________________________________________________________________\n"
     ]
    }
   ],
   "source": [
    "model.summary()"
   ]
  },
  {
   "cell_type": "code",
   "execution_count": 12,
   "metadata": {},
   "outputs": [
    {
     "data": {
      "text/plain": [
       "1"
      ]
     },
     "execution_count": 12,
     "metadata": {},
     "output_type": "execute_result"
    }
   ],
   "source": [
    "len(model.layers)"
   ]
  },
  {
   "cell_type": "code",
   "execution_count": 13,
   "metadata": {},
   "outputs": [],
   "source": [
    "weights = model.layers[0].get_weights()"
   ]
  },
  {
   "cell_type": "code",
   "execution_count": 14,
   "metadata": {},
   "outputs": [
    {
     "data": {
      "text/plain": [
       "2"
      ]
     },
     "execution_count": 14,
     "metadata": {},
     "output_type": "execute_result"
    }
   ],
   "source": [
    "len(weights)"
   ]
  },
  {
   "cell_type": "code",
   "execution_count": 15,
   "metadata": {},
   "outputs": [
    {
     "data": {
      "text/plain": [
       "[array([[0.02796961]], dtype=float32), array([0.], dtype=float32)]"
      ]
     },
     "execution_count": 15,
     "metadata": {},
     "output_type": "execute_result"
    }
   ],
   "source": [
    "weights"
   ]
  },
  {
   "cell_type": "code",
   "execution_count": 17,
   "metadata": {},
   "outputs": [],
   "source": [
    "weight_initial = weights[0]"
   ]
  },
  {
   "cell_type": "code",
   "execution_count": 18,
   "metadata": {},
   "outputs": [],
   "source": [
    "bias_initial = weights[1]"
   ]
  },
  {
   "cell_type": "code",
   "execution_count": 19,
   "metadata": {},
   "outputs": [
    {
     "name": "stdout",
     "output_type": "stream",
     "text": [
      "Linear regression model is initialized with weights w: 0.03, b: 0.00\n"
     ]
    }
   ],
   "source": [
    "print('Linear regression model is initialized with weights w: %.2f, b: %.2f' %(weight_initial, bias_initial))"
   ]
  },
  {
   "cell_type": "code",
   "execution_count": 22,
   "metadata": {},
   "outputs": [],
   "source": [
    "model.compile(optimizer='sgd', loss='mse')"
   ]
  },
  {
   "cell_type": "code",
   "execution_count": 24,
   "metadata": {},
   "outputs": [
    {
     "name": "stdout",
     "output_type": "stream",
     "text": [
      "Epoch 1/200\n",
      "101/101 [==============================] - 1s 5ms/step - loss: 5.3738\n",
      "Epoch 2/200\n",
      "101/101 [==============================] - 0s 116us/step - loss: 5.1033\n",
      "Epoch 3/200\n",
      "101/101 [==============================] - 0s 91us/step - loss: 4.8315\n",
      "Epoch 4/200\n",
      "101/101 [==============================] - 0s 113us/step - loss: 4.5401\n",
      "Epoch 5/200\n",
      "101/101 [==============================] - 0s 73us/step - loss: 4.2689\n",
      "Epoch 6/200\n",
      "101/101 [==============================] - 0s 60us/step - loss: 4.0287\n",
      "Epoch 7/200\n",
      "101/101 [==============================] - 0s 71us/step - loss: 3.8336\n",
      "Epoch 8/200\n",
      "101/101 [==============================] - 0s 110us/step - loss: 3.6424\n",
      "Epoch 9/200\n",
      "101/101 [==============================] - 0s 85us/step - loss: 3.4703\n",
      "Epoch 10/200\n",
      "101/101 [==============================] - 0s 76us/step - loss: 3.2936\n",
      "Epoch 11/200\n",
      "101/101 [==============================] - 0s 77us/step - loss: 3.1202\n",
      "Epoch 12/200\n",
      "101/101 [==============================] - 0s 75us/step - loss: 2.9781\n",
      "Epoch 13/200\n",
      "101/101 [==============================] - 0s 57us/step - loss: 2.8416\n",
      "Epoch 14/200\n",
      "101/101 [==============================] - 0s 82us/step - loss: 2.6899\n",
      "Epoch 15/200\n",
      "101/101 [==============================] - 0s 107us/step - loss: 2.5494\n",
      "Epoch 16/200\n",
      "101/101 [==============================] - 0s 90us/step - loss: 2.4198\n",
      "Epoch 17/200\n",
      "101/101 [==============================] - 0s 88us/step - loss: 2.3010\n",
      "Epoch 18/200\n",
      "101/101 [==============================] - 0s 65us/step - loss: 2.1930\n",
      "Epoch 19/200\n",
      "101/101 [==============================] - 0s 57us/step - loss: 2.0801\n",
      "Epoch 20/200\n",
      "101/101 [==============================] - 0s 115us/step - loss: 1.9788\n",
      "Epoch 21/200\n",
      "101/101 [==============================] - 0s 81us/step - loss: 1.8851\n",
      "Epoch 22/200\n",
      "101/101 [==============================] - 0s 98us/step - loss: 1.7884\n",
      "Epoch 23/200\n",
      "101/101 [==============================] - 0s 128us/step - loss: 1.6930\n",
      "Epoch 24/200\n",
      "101/101 [==============================] - 0s 73us/step - loss: 1.6091\n",
      "Epoch 25/200\n",
      "101/101 [==============================] - 0s 62us/step - loss: 1.5316\n",
      "Epoch 26/200\n",
      "101/101 [==============================] - 0s 83us/step - loss: 1.4529\n",
      "Epoch 27/200\n",
      "101/101 [==============================] - 0s 108us/step - loss: 1.3792\n",
      "Epoch 28/200\n",
      "101/101 [==============================] - 0s 114us/step - loss: 1.3076\n",
      "Epoch 29/200\n",
      "101/101 [==============================] - 0s 92us/step - loss: 1.2354\n",
      "Epoch 30/200\n",
      "101/101 [==============================] - 0s 74us/step - loss: 1.1830\n",
      "Epoch 31/200\n",
      "101/101 [==============================] - 0s 116us/step - loss: 1.1265\n",
      "Epoch 32/200\n",
      "101/101 [==============================] - 0s 152us/step - loss: 1.0736\n",
      "Epoch 33/200\n",
      "101/101 [==============================] - 0s 65us/step - loss: 1.0286\n",
      "Epoch 34/200\n",
      "101/101 [==============================] - 0s 93us/step - loss: 0.9811\n",
      "Epoch 35/200\n",
      "101/101 [==============================] - 0s 104us/step - loss: 0.9344\n",
      "Epoch 36/200\n",
      "101/101 [==============================] - 0s 69us/step - loss: 0.8916\n",
      "Epoch 37/200\n",
      "101/101 [==============================] - 0s 75us/step - loss: 0.8525\n",
      "Epoch 38/200\n",
      "101/101 [==============================] - 0s 70us/step - loss: 0.8182\n",
      "Epoch 39/200\n",
      "101/101 [==============================] - 0s 90us/step - loss: 0.7849\n",
      "Epoch 40/200\n",
      "101/101 [==============================] - 0s 69us/step - loss: 0.7505\n",
      "Epoch 41/200\n",
      "101/101 [==============================] - 0s 107us/step - loss: 0.7101\n",
      "Epoch 42/200\n",
      "101/101 [==============================] - 0s 79us/step - loss: 0.6838\n",
      "Epoch 43/200\n",
      "101/101 [==============================] - 0s 83us/step - loss: 0.6549\n",
      "Epoch 44/200\n",
      "101/101 [==============================] - 0s 70us/step - loss: 0.6283\n",
      "Epoch 45/200\n",
      "101/101 [==============================] - 0s 153us/step - loss: 0.6043\n",
      "Epoch 46/200\n",
      "101/101 [==============================] - 0s 88us/step - loss: 0.5785\n",
      "Epoch 47/200\n",
      "101/101 [==============================] - 0s 102us/step - loss: 0.5544\n",
      "Epoch 48/200\n",
      "101/101 [==============================] - 0s 94us/step - loss: 0.5332\n",
      "Epoch 49/200\n",
      "101/101 [==============================] - 0s 81us/step - loss: 0.5111\n",
      "Epoch 50/200\n",
      "101/101 [==============================] - 0s 77us/step - loss: 0.4916\n",
      "Epoch 51/200\n",
      "101/101 [==============================] - 0s 87us/step - loss: 0.4723\n",
      "Epoch 52/200\n",
      "101/101 [==============================] - 0s 66us/step - loss: 0.4546\n",
      "Epoch 53/200\n",
      "101/101 [==============================] - 0s 141us/step - loss: 0.4366\n",
      "Epoch 54/200\n",
      "101/101 [==============================] - 0s 67us/step - loss: 0.4195\n",
      "Epoch 55/200\n",
      "101/101 [==============================] - 0s 72us/step - loss: 0.4022\n",
      "Epoch 56/200\n",
      "101/101 [==============================] - 0s 102us/step - loss: 0.3864\n",
      "Epoch 57/200\n",
      "101/101 [==============================] - 0s 87us/step - loss: 0.3736\n",
      "Epoch 58/200\n",
      "101/101 [==============================] - 0s 81us/step - loss: 0.3608\n",
      "Epoch 59/200\n",
      "101/101 [==============================] - 0s 62us/step - loss: 0.3489\n",
      "Epoch 60/200\n",
      "101/101 [==============================] - 0s 120us/step - loss: 0.3369\n",
      "Epoch 61/200\n",
      "101/101 [==============================] - 0s 81us/step - loss: 0.3260\n",
      "Epoch 62/200\n",
      "101/101 [==============================] - 0s 62us/step - loss: 0.3161\n",
      "Epoch 63/200\n",
      "101/101 [==============================] - 0s 83us/step - loss: 0.3075\n",
      "Epoch 64/200\n",
      "101/101 [==============================] - 0s 80us/step - loss: 0.2979\n",
      "Epoch 65/200\n",
      "101/101 [==============================] - 0s 94us/step - loss: 0.2890\n",
      "Epoch 66/200\n",
      "101/101 [==============================] - 0s 89us/step - loss: 0.2800\n",
      "Epoch 67/200\n",
      "101/101 [==============================] - 0s 71us/step - loss: 0.2724\n",
      "Epoch 68/200\n",
      "101/101 [==============================] - 0s 64us/step - loss: 0.2659\n",
      "Epoch 69/200\n",
      "101/101 [==============================] - 0s 91us/step - loss: 0.2594\n",
      "Epoch 70/200\n",
      "101/101 [==============================] - 0s 63us/step - loss: 0.2535\n",
      "Epoch 71/200\n",
      "101/101 [==============================] - 0s 58us/step - loss: 0.2479\n",
      "Epoch 72/200\n",
      "101/101 [==============================] - 0s 65us/step - loss: 0.2422\n",
      "Epoch 73/200\n",
      "101/101 [==============================] - 0s 62us/step - loss: 0.2364\n",
      "Epoch 74/200\n",
      "101/101 [==============================] - 0s 99us/step - loss: 0.2315\n",
      "Epoch 75/200\n",
      "101/101 [==============================] - 0s 110us/step - loss: 0.2264\n",
      "Epoch 76/200\n",
      "101/101 [==============================] - 0s 85us/step - loss: 0.2214\n",
      "Epoch 77/200\n",
      "101/101 [==============================] - 0s 85us/step - loss: 0.2170\n",
      "Epoch 78/200\n",
      "101/101 [==============================] - 0s 78us/step - loss: 0.2133\n",
      "Epoch 79/200\n",
      "101/101 [==============================] - 0s 85us/step - loss: 0.2104\n",
      "Epoch 80/200\n",
      "101/101 [==============================] - 0s 83us/step - loss: 0.2068\n",
      "Epoch 81/200\n",
      "101/101 [==============================] - 0s 93us/step - loss: 0.2027\n",
      "Epoch 82/200\n",
      "101/101 [==============================] - 0s 83us/step - loss: 0.2000\n",
      "Epoch 83/200\n",
      "101/101 [==============================] - 0s 69us/step - loss: 0.1973\n",
      "Epoch 84/200\n",
      "101/101 [==============================] - 0s 74us/step - loss: 0.1941\n",
      "Epoch 85/200\n",
      "101/101 [==============================] - 0s 78us/step - loss: 0.1908\n",
      "Epoch 86/200\n",
      "101/101 [==============================] - 0s 55us/step - loss: 0.1878\n",
      "Epoch 87/200\n",
      "101/101 [==============================] - 0s 71us/step - loss: 0.1856\n",
      "Epoch 88/200\n",
      "101/101 [==============================] - 0s 87us/step - loss: 0.1829\n",
      "Epoch 89/200\n",
      "101/101 [==============================] - 0s 96us/step - loss: 0.1807\n",
      "Epoch 90/200\n",
      "101/101 [==============================] - 0s 70us/step - loss: 0.1781\n",
      "Epoch 91/200\n",
      "101/101 [==============================] - 0s 76us/step - loss: 0.1762\n",
      "Epoch 92/200\n",
      "101/101 [==============================] - 0s 67us/step - loss: 0.1744\n",
      "Epoch 93/200\n",
      "101/101 [==============================] - 0s 70us/step - loss: 0.1721\n",
      "Epoch 94/200\n",
      "101/101 [==============================] - 0s 67us/step - loss: 0.1700\n",
      "Epoch 95/200\n",
      "101/101 [==============================] - 0s 95us/step - loss: 0.1686\n",
      "Epoch 96/200\n",
      "101/101 [==============================] - 0s 75us/step - loss: 0.1668\n",
      "Epoch 97/200\n",
      "101/101 [==============================] - 0s 76us/step - loss: 0.1650\n",
      "Epoch 98/200\n"
     ]
    },
    {
     "name": "stdout",
     "output_type": "stream",
     "text": [
      "101/101 [==============================] - 0s 69us/step - loss: 0.1639\n",
      "Epoch 99/200\n",
      "101/101 [==============================] - 0s 68us/step - loss: 0.1628\n",
      "Epoch 100/200\n",
      "101/101 [==============================] - 0s 81us/step - loss: 0.1606\n",
      "Epoch 101/200\n",
      "101/101 [==============================] - 0s 85us/step - loss: 0.1594\n",
      "Epoch 102/200\n",
      "101/101 [==============================] - 0s 73us/step - loss: 0.1577\n",
      "Epoch 103/200\n",
      "101/101 [==============================] - 0s 82us/step - loss: 0.1565\n",
      "Epoch 104/200\n",
      "101/101 [==============================] - 0s 90us/step - loss: 0.1561\n",
      "Epoch 105/200\n",
      "101/101 [==============================] - 0s 103us/step - loss: 0.1546\n",
      "Epoch 106/200\n",
      "101/101 [==============================] - 0s 90us/step - loss: 0.1540\n",
      "Epoch 107/200\n",
      "101/101 [==============================] - 0s 82us/step - loss: 0.1533\n",
      "Epoch 108/200\n",
      "101/101 [==============================] - 0s 89us/step - loss: 0.1525\n",
      "Epoch 109/200\n",
      "101/101 [==============================] - 0s 107us/step - loss: 0.1516\n",
      "Epoch 110/200\n",
      "101/101 [==============================] - 0s 98us/step - loss: 0.1511\n",
      "Epoch 111/200\n",
      "101/101 [==============================] - 0s 76us/step - loss: 0.1503\n",
      "Epoch 112/200\n",
      "101/101 [==============================] - 0s 86us/step - loss: 0.1496\n",
      "Epoch 113/200\n",
      "101/101 [==============================] - 0s 98us/step - loss: 0.1487\n",
      "Epoch 114/200\n",
      "101/101 [==============================] - 0s 104us/step - loss: 0.1484\n",
      "Epoch 115/200\n",
      "101/101 [==============================] - 0s 67us/step - loss: 0.1479\n",
      "Epoch 116/200\n",
      "101/101 [==============================] - 0s 63us/step - loss: 0.1473\n",
      "Epoch 117/200\n",
      "101/101 [==============================] - 0s 84us/step - loss: 0.1467\n",
      "Epoch 118/200\n",
      "101/101 [==============================] - 0s 84us/step - loss: 0.1462\n",
      "Epoch 119/200\n",
      "101/101 [==============================] - 0s 76us/step - loss: 0.1457\n",
      "Epoch 120/200\n",
      "101/101 [==============================] - 0s 102us/step - loss: 0.1455\n",
      "Epoch 121/200\n",
      "101/101 [==============================] - 0s 85us/step - loss: 0.1451\n",
      "Epoch 122/200\n",
      "101/101 [==============================] - 0s 103us/step - loss: 0.1449\n",
      "Epoch 123/200\n",
      "101/101 [==============================] - 0s 108us/step - loss: 0.1446\n",
      "Epoch 124/200\n",
      "101/101 [==============================] - 0s 70us/step - loss: 0.1443\n",
      "Epoch 125/200\n",
      "101/101 [==============================] - 0s 66us/step - loss: 0.1441\n",
      "Epoch 126/200\n",
      "101/101 [==============================] - 0s 70us/step - loss: 0.1439\n",
      "Epoch 127/200\n",
      "101/101 [==============================] - 0s 87us/step - loss: 0.1438\n",
      "Epoch 128/200\n",
      "101/101 [==============================] - 0s 70us/step - loss: 0.1435\n",
      "Epoch 129/200\n",
      "101/101 [==============================] - 0s 61us/step - loss: 0.1431\n",
      "Epoch 130/200\n",
      "101/101 [==============================] - 0s 106us/step - loss: 0.1430\n",
      "Epoch 131/200\n",
      "101/101 [==============================] - 0s 94us/step - loss: 0.1426\n",
      "Epoch 132/200\n",
      "101/101 [==============================] - 0s 95us/step - loss: 0.1423\n",
      "Epoch 133/200\n",
      "101/101 [==============================] - 0s 95us/step - loss: 0.1422\n",
      "Epoch 134/200\n",
      "101/101 [==============================] - 0s 70us/step - loss: 0.1420\n",
      "Epoch 135/200\n",
      "101/101 [==============================] - 0s 98us/step - loss: 0.1416\n",
      "Epoch 136/200\n",
      "101/101 [==============================] - 0s 100us/step - loss: 0.1417\n",
      "Epoch 137/200\n",
      "101/101 [==============================] - 0s 90us/step - loss: 0.1415\n",
      "Epoch 138/200\n",
      "101/101 [==============================] - 0s 97us/step - loss: 0.1414\n",
      "Epoch 139/200\n",
      "101/101 [==============================] - 0s 91us/step - loss: 0.1413\n",
      "Epoch 140/200\n",
      "101/101 [==============================] - 0s 95us/step - loss: 0.1412\n",
      "Epoch 141/200\n",
      "101/101 [==============================] - 0s 90us/step - loss: 0.1412\n",
      "Epoch 142/200\n",
      "101/101 [==============================] - 0s 71us/step - loss: 0.1410\n",
      "Epoch 143/200\n",
      "101/101 [==============================] - 0s 86us/step - loss: 0.1411\n",
      "Epoch 144/200\n",
      "101/101 [==============================] - 0s 81us/step - loss: 0.1409\n",
      "Epoch 145/200\n",
      "101/101 [==============================] - 0s 80us/step - loss: 0.1409\n",
      "Epoch 146/200\n",
      "101/101 [==============================] - 0s 97us/step - loss: 0.1409\n",
      "Epoch 147/200\n",
      "101/101 [==============================] - 0s 93us/step - loss: 0.1408\n",
      "Epoch 148/200\n",
      "101/101 [==============================] - 0s 82us/step - loss: 0.1409\n",
      "Epoch 149/200\n",
      "101/101 [==============================] - 0s 88us/step - loss: 0.1404\n",
      "Epoch 150/200\n",
      "101/101 [==============================] - 0s 84us/step - loss: 0.1404\n",
      "Epoch 151/200\n",
      "101/101 [==============================] - 0s 78us/step - loss: 0.1404\n",
      "Epoch 152/200\n",
      "101/101 [==============================] - 0s 95us/step - loss: 0.1404\n",
      "Epoch 153/200\n",
      "101/101 [==============================] - 0s 81us/step - loss: 0.1405\n",
      "Epoch 154/200\n",
      "101/101 [==============================] - 0s 72us/step - loss: 0.1406\n",
      "Epoch 155/200\n",
      "101/101 [==============================] - 0s 68us/step - loss: 0.1404\n",
      "Epoch 156/200\n",
      "101/101 [==============================] - 0s 67us/step - loss: 0.1403\n",
      "Epoch 157/200\n",
      "101/101 [==============================] - 0s 70us/step - loss: 0.1403\n",
      "Epoch 158/200\n",
      "101/101 [==============================] - 0s 71us/step - loss: 0.1402\n",
      "Epoch 159/200\n",
      "101/101 [==============================] - 0s 72us/step - loss: 0.1400\n",
      "Epoch 160/200\n",
      "101/101 [==============================] - 0s 64us/step - loss: 0.1403\n",
      "Epoch 161/200\n",
      "101/101 [==============================] - 0s 62us/step - loss: 0.1400\n",
      "Epoch 162/200\n",
      "101/101 [==============================] - 0s 70us/step - loss: 0.1401\n",
      "Epoch 163/200\n",
      "101/101 [==============================] - 0s 79us/step - loss: 0.1401\n",
      "Epoch 164/200\n",
      "101/101 [==============================] - 0s 73us/step - loss: 0.1399\n",
      "Epoch 165/200\n",
      "101/101 [==============================] - 0s 113us/step - loss: 0.1400\n",
      "Epoch 166/200\n",
      "101/101 [==============================] - 0s 91us/step - loss: 0.1398\n",
      "Epoch 167/200\n",
      "101/101 [==============================] - 0s 78us/step - loss: 0.1398\n",
      "Epoch 168/200\n",
      "101/101 [==============================] - 0s 86us/step - loss: 0.1397\n",
      "Epoch 169/200\n",
      "101/101 [==============================] - 0s 98us/step - loss: 0.1396\n",
      "Epoch 170/200\n",
      "101/101 [==============================] - 0s 91us/step - loss: 0.1396\n",
      "Epoch 171/200\n",
      "101/101 [==============================] - 0s 91us/step - loss: 0.1395\n",
      "Epoch 172/200\n",
      "101/101 [==============================] - 0s 93us/step - loss: 0.1395\n",
      "Epoch 173/200\n",
      "101/101 [==============================] - 0s 79us/step - loss: 0.1395\n",
      "Epoch 174/200\n",
      "101/101 [==============================] - 0s 122us/step - loss: 0.1395\n",
      "Epoch 175/200\n",
      "101/101 [==============================] - 0s 103us/step - loss: 0.1396\n",
      "Epoch 176/200\n",
      "101/101 [==============================] - 0s 127us/step - loss: 0.1394\n",
      "Epoch 177/200\n",
      "101/101 [==============================] - 0s 153us/step - loss: 0.1395\n",
      "Epoch 178/200\n",
      "101/101 [==============================] - 0s 126us/step - loss: 0.1394\n",
      "Epoch 179/200\n",
      "101/101 [==============================] - 0s 110us/step - loss: 0.1392\n",
      "Epoch 180/200\n",
      "101/101 [==============================] - 0s 126us/step - loss: 0.1392\n",
      "Epoch 181/200\n",
      "101/101 [==============================] - 0s 154us/step - loss: 0.1393\n",
      "Epoch 182/200\n",
      "101/101 [==============================] - 0s 97us/step - loss: 0.1395\n",
      "Epoch 183/200\n",
      "101/101 [==============================] - 0s 114us/step - loss: 0.1392\n",
      "Epoch 184/200\n",
      "101/101 [==============================] - 0s 110us/step - loss: 0.1393\n",
      "Epoch 185/200\n",
      "101/101 [==============================] - 0s 90us/step - loss: 0.1392\n",
      "Epoch 186/200\n",
      "101/101 [==============================] - 0s 86us/step - loss: 0.1391\n",
      "Epoch 187/200\n",
      "101/101 [==============================] - 0s 192us/step - loss: 0.1392\n",
      "Epoch 188/200\n",
      "101/101 [==============================] - 0s 126us/step - loss: 0.1391\n",
      "Epoch 189/200\n",
      "101/101 [==============================] - 0s 113us/step - loss: 0.1391\n",
      "Epoch 190/200\n",
      "101/101 [==============================] - 0s 102us/step - loss: 0.1391\n",
      "Epoch 191/200\n",
      "101/101 [==============================] - 0s 129us/step - loss: 0.1392\n",
      "Epoch 192/200\n",
      "101/101 [==============================] - 0s 114us/step - loss: 0.1391\n",
      "Epoch 193/200\n",
      "101/101 [==============================] - 0s 103us/step - loss: 0.1391\n",
      "Epoch 194/200\n"
     ]
    },
    {
     "name": "stdout",
     "output_type": "stream",
     "text": [
      "101/101 [==============================] - 0s 115us/step - loss: 0.1391\n",
      "Epoch 195/200\n",
      "101/101 [==============================] - 0s 96us/step - loss: 0.1391\n",
      "Epoch 196/200\n",
      "101/101 [==============================] - 0s 157us/step - loss: 0.1390\n",
      "Epoch 197/200\n",
      "101/101 [==============================] - 0s 121us/step - loss: 0.1391\n",
      "Epoch 198/200\n",
      "101/101 [==============================] - 0s 81us/step - loss: 0.1391\n",
      "Epoch 199/200\n",
      "101/101 [==============================] - 0s 68us/step - loss: 0.1389\n",
      "Epoch 200/200\n",
      "101/101 [==============================] - 0s 78us/step - loss: 0.1389\n"
     ]
    },
    {
     "data": {
      "text/plain": [
       "<keras.callbacks.History at 0x7f1ddee6b978>"
      ]
     },
     "execution_count": 24,
     "metadata": {},
     "output_type": "execute_result"
    }
   ],
   "source": [
    "model.fit(train_data_X, train_data_Y, epochs=200, verbose=1)"
   ]
  },
  {
   "cell_type": "code",
   "execution_count": 25,
   "metadata": {},
   "outputs": [],
   "source": [
    "weights = model.layers[0].get_weights()"
   ]
  },
  {
   "cell_type": "code",
   "execution_count": 26,
   "metadata": {},
   "outputs": [],
   "source": [
    "weight_final = weights[0]"
   ]
  },
  {
   "cell_type": "code",
   "execution_count": 27,
   "metadata": {},
   "outputs": [],
   "source": [
    "bias_final = weights[1]"
   ]
  },
  {
   "cell_type": "code",
   "execution_count": 28,
   "metadata": {},
   "outputs": [
    {
     "name": "stdout",
     "output_type": "stream",
     "text": [
      "Linear regression model is trained to have weight w: 3.97, b: 0.06\n"
     ]
    }
   ],
   "source": [
    "print('Linear regression model is trained to have weight w: %.2f, b: %.2f' % (weight_final, bias_final))"
   ]
  },
  {
   "cell_type": "code",
   "execution_count": 29,
   "metadata": {},
   "outputs": [],
   "source": [
    "result = model.predict(train_data_X)"
   ]
  },
  {
   "cell_type": "code",
   "execution_count": 31,
   "metadata": {},
   "outputs": [
    {
     "data": {
      "image/png": "[encoded data removed]",
      "text/plain": [
       "<Figure size 432x288 with 1 Axes>"
      ]
     },
     "metadata": {},
     "output_type": "display_data"
    }
   ],
   "source": [
    "plt.scatter(train_data_X, train_data_Y, label='data', color=['red', 'green'])\n",
    "plt.plot(train_data_X, result, label='prediction')\n",
    "plt.legend()\n",
    "plt.show()"
   ]
  },
  {
   "cell_type": "code",
   "execution_count": null,
   "metadata": {},
   "outputs": [],
   "source": []
  }
 ],
 "metadata": {
  "kernelspec": {
   "display_name": "Python 3",
   "language": "python",
   "name": "python3"
  },
  "language_info": {
   "codemirror_mode": {
    "name": "ipython",
    "version": 3
   },
   "file_extension": ".py",
   "mimetype": "text/x-python",
   "name": "python",
   "nbconvert_exporter": "python",
   "pygments_lexer": "ipython3",
   "version": "3.6.5"
  }
 },
 "nbformat": 4,
 "nbformat_minor": 2
}
